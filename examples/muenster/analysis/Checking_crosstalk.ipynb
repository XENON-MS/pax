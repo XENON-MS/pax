{
 "cells": [
  {
   "cell_type": "code",
   "execution_count": 73,
   "metadata": {
    "collapsed": true
   },
   "outputs": [],
   "source": [
    "import h5py\n",
    "import tables\n",
    "from pandas import Series, DataFrame\n",
    "import pandas as pd\n",
    "import numpy as np\n",
    "import matplotlib.pyplot as plt\n",
    "\n"
   ]
  },
  {
   "cell_type": "code",
   "execution_count": 74,
   "metadata": {
    "collapsed": true
   },
   "outputs": [],
   "source": [
    "#%matplotlib inline # comment this line if you want to have a plot window"
   ]
  },
  {
   "cell_type": "code",
   "execution_count": 75,
   "metadata": {
    "collapsed": true
   },
   "outputs": [],
   "source": [
    "simultaneous    = '/home/axel/ownCloud/documents/Masterarbeit/TPC/rawdata/LED_test_100Hz_1.4V_500ns_512samps_20150729.hdf5'\n",
    "delayed_1us = '/home/axel/ownCloud/documents/Masterarbeit/TPC/rawdata/LED_test_100Hz_1.4V_500ns_trigger_1000ns_delayed_512samps_20150729.hdf5'\n",
    "whole_time = '/home/axel/ownCloud/documents/Masterarbeit/TPC/rawdata/LED_test_100Hz_1.4V_5120ns_trigger_2560ns_delayed_512samps_20150729.hdf5'\n",
    "background = '/home/axel/ownCloud/documents/Masterarbeit/TPC/rawdata/LED_test_100Hz_1.4V_500ns_LED_off_bg_512samps_20150729.hdf5'"
   ]
  },
  {
   "cell_type": "code",
   "execution_count": null,
   "metadata": {
    "collapsed": false
   },
   "outputs": [],
   "source": [
    "hits_simultaneous = pd.read_hdf(simultaneous, \"Hit\")\n",
    "hits_delayed_1us = pd.read_hdf(delayed_1us, \"Hit\")\n",
    "hits_whole_time = pd.read_hdf(whole_time, \"Hit\")\n",
    "hits_background = pd.read_hdf(background,\"Hit\")\n",
    "#diff = hits_simultaneous -hits_background"
   ]
  },
  {
   "cell_type": "code",
   "execution_count": null,
   "metadata": {
    "collapsed": false
   },
   "outputs": [],
   "source": [
    "nof_bins = 500\n",
    "histo_sim = hits_simultaneous[\"center\"].hist(bins=nof_bins,histtype=\"step\",label=\"500ns pulse, simultanous trigger\",alpha=0.5,color=\"red\")\n",
    "histo_delay = hits_delayed_1us[\"center\"].hist(bins=nof_bins, histtype=\"step\",label=\"500ns pulse, trigger 1µs delayed\", alpha=0.5,color=\"green\")\n",
    "histo_whole = hits_whole_time[\"center\"].hist(bins=nof_bins,histtype=\"step\", label=\"5120ns, trigger 2.560µs delayed\", alpha=0.5,color=\"blue\")\n",
    "histo_bg = hits_background[\"center\"].hist(bins=nof_bins,histtype=\"step\", label=\"LED off\", alpha=0.5,color=\"black\")\n",
    "#histo_whole.\n",
    "plt.yscale(\"log\")\n",
    "plt.legend()\n",
    "plt.xlim(0,5120)\n",
    "plt.title(\"center position of hits\")\n",
    "plt.xlabel(\"time in µs\")\n",
    "plt.ylabel(\"# of hits\")\n",
    "plt.show()"
   ]
  },
  {
   "cell_type": "code",
   "execution_count": null,
   "metadata": {
    "collapsed": true
   },
   "outputs": [],
   "source": []
  },
  {
   "cell_type": "code",
   "execution_count": null,
   "metadata": {
    "collapsed": false
   },
   "outputs": [],
   "source": []
  },
  {
   "cell_type": "code",
   "execution_count": null,
   "metadata": {
    "collapsed": false
   },
   "outputs": [],
   "source": []
  },
  {
   "cell_type": "code",
   "execution_count": null,
   "metadata": {
    "collapsed": true
   },
   "outputs": [],
   "source": [
    "DataFrame.hist?"
   ]
  },
  {
   "cell_type": "code",
   "execution_count": null,
   "metadata": {
    "collapsed": true
   },
   "outputs": [],
   "source": []
  }
 ],
 "metadata": {
  "kernelspec": {
   "display_name": "Python 3",
   "language": "python",
   "name": "python3"
  },
  "language_info": {
   "codemirror_mode": {
    "name": "ipython",
    "version": 3
   },
   "file_extension": ".py",
   "mimetype": "text/x-python",
   "name": "python",
   "nbconvert_exporter": "python",
   "pygments_lexer": "ipython3",
   "version": "3.4.3"
  }
 },
 "nbformat": 4,
 "nbformat_minor": 0
}
