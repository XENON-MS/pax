{
 "cells": [
  {
   "cell_type": "code",
   "execution_count": 141,
   "metadata": {
    "collapsed": true
   },
   "outputs": [],
   "source": [
    "# Settings\n",
    "#filename    = '/home/axel/PycharmProjects/pax/tpc_kr_150410_8k.hdf5'\n",
    "#filename     = '/home/axel/ownCloud/documents/Masterarbeit/TPC/rawdata/2015_10_28/background_trigger_logic_600th_151028.hdf5'\n",
    "#filename    = '/home/axel/ownCloud/documents/Masterarbeit/TPC/rawdata/2015_10_02/Kr_Measurement_1000TH_1_151002.hdf5'\n",
    "filename    = '/home/a_fieg02/Desktop/krypton_sample.hdf5'\n",
    "file_format = 'hdf5'\n",
    "#loglevel    = 'DEBUG'"
   ]
  },
  {
   "cell_type": "code",
   "execution_count": 142,
   "metadata": {
    "collapsed": true
   },
   "outputs": [],
   "source": [
    "import logging\n",
    "log = logging.getLogger('Gaseous basic statistics')\n",
    "log.setLevel('DEBUG')\n",
    "\n",
    "import numpy as np\n",
    "\n",
    "import matplotlib   # Needed for font size spec, color map transformation function bla bla\n",
    "%matplotlib inline\n",
    "matplotlib.rc('font', size=16)\n",
    "import matplotlib.pyplot as plt\n",
    "\n",
    "# Optional progress bar\n",
    "try:\n",
    "    from tqdm import tqdm\n",
    "except ImportError:\n",
    "    log.debug(\"You don't have tqdm, I can't give you a nice progress bar...\")\n",
    "    def dummy(*args,**kwargs):\n",
    "        return args[0]\n",
    "    tqdm = dummy\n",
    "\n",
    "from recarray_tools import append_fields, fields_view, group_by, filter_on_fields, fields_data\n",
    "\n"
   ]
  },
  {
   "cell_type": "code",
   "execution_count": 143,
   "metadata": {
    "collapsed": false
   },
   "outputs": [
    {
     "name": "stderr",
     "output_type": "stream",
     "text": [
      "DEBUG:Gaseous basic statistics:Now loading /home/a_fieg02/Desktop/krypton_sample.hdf5 (file format=hdf5)...\n",
      "/home/a_fieg02/anaconda3/lib/python3.4/site-packages/IPython/kernel/__main__.py:31: FutureWarning: comparison to `None` will result in an elementwise object comparison in the future.\n",
      "INFO:Gaseous basic statistics:Loaded /home/a_fieg02/Desktop/krypton_sample.hdf5, containing 57930 peaks (144.82 MB RAM) and 9432 events (3.62 MB RAM)\n"
     ]
    }
   ],
   "source": [
    "##\n",
    "# Load the data\n",
    "##\n",
    "\n",
    "log.debug(\"Now loading %s (file format=%s)...\" % (filename, file_format))\n",
    "\n",
    "# Slurp peaks and events into memory\n",
    "# WARNING: For a large dataset, use pax to remove big low-level fields first\n",
    "# (area_per_channel, does_channel_contribute, does_channel_have_noise)\n",
    "try:\n",
    "    # Load the file using pax 3's IO code\n",
    "    from pax.formats import flat_data_formats\n",
    "    ioformat = flat_data_formats[file_format]()\n",
    "    ioformat.open(filename, 'r')\n",
    "    events = ioformat.read_data('Event')\n",
    "    try:\n",
    "        peaks = ioformat.read_data('Peak')\n",
    "    except KeyError:\n",
    "        peaks = None\n",
    "        log.info(\"There is no peak table\")\n",
    "    hits = ioformat.read_data('Hit')\n",
    "    ioformat.close()\n",
    "except ImportError:\n",
    "    log.debug(\"You don't have pax 3 installed, falling back to HDF5-specific code...\")\n",
    "    import h5py\n",
    "    f = h5py.File(filename)\n",
    "    events = f.get('Event')[:]\n",
    "    peaks = f.get('Peak')[:]\n",
    "    hits = f.get('Hit')[:]\n",
    "    f.close()\n",
    "if peaks != None:\n",
    "    log.info(\"Loaded %s, containing %d peaks (%0.2f MB RAM) and %d events (%0.2f MB RAM)\" % (\n",
    "    filename, len(peaks), peaks.nbytes/10**6, len(events), events.nbytes/10**6))\n",
    "if len(events) == 0:\n",
    "    raise ValueError(\"You don't have any events in this dataset!\")"
   ]
  },
  {
   "cell_type": "code",
   "execution_count": 144,
   "metadata": {
    "collapsed": false
   },
   "outputs": [
    {
     "name": "stderr",
     "output_type": "stream",
     "text": [
      "DEBUG:Gaseous basic statistics:Deleted 0 events without any peaks (0.0000% of total)\n"
     ]
    },
    {
     "name": "stdout",
     "output_type": "stream",
     "text": [
      "Deleted 0 events without any peaks (0.0000% of total)\n",
      "done\n",
      "number of events selected before: 9432\n",
      "done\n",
      "Tell me the peaktypes S2: 6\n",
      "Tell me the peaktypes S1: 16838\n",
      "Tell me the peaktypes noise: 0\n",
      "Tell me the peaktypes unknown: 30\n",
      "Tell me the peaktypes lone_hit: 41056\n"
     ]
    },
    {
     "data": {
      "text/plain": [
       "('Event',\n",
       " 'n_interactions',\n",
       " 'interactions_start',\n",
       " 'n_peaks',\n",
       " 'peaks_start',\n",
       " 'dataset_name',\n",
       " 'event_number',\n",
       " 'is_channel_suspicious',\n",
       " 'n_channels',\n",
       " 'n_hits_rejected',\n",
       " 'noise_pulses_in',\n",
       " 'sample_duration',\n",
       " 'start_time',\n",
       " 'stop_time',\n",
       " 'n_s1',\n",
       " 'n_s2',\n",
       " 'n_unknown',\n",
       " 'n_noise',\n",
       " 'n_lone_hit')"
      ]
     },
     "execution_count": 144,
     "metadata": {},
     "output_type": "execute_result"
    }
   ],
   "source": [
    "from recarray_tools import append_fields, fields_view, group_by, filter_on_fields, fields_data\n",
    "\n",
    "# Get rid of pathological events without peaks immediately, later code doesn't work on these ...\n",
    "n_before = len(events)\n",
    "\n",
    "events = filter_on_fields(events, peaks, 'Event')\n",
    "\n",
    "log.debug(\"Deleted %d events without any peaks (%0.4f%% of total)\" % (\n",
    "    n_before-len(events), 100*(n_before-len(events))/n_before))\n",
    "\n",
    "print(\"Deleted %d events without any peaks (%0.4f%% of total)\" % (\n",
    "    n_before-len(events), 100*(n_before-len(events))/n_before))\n",
    "\n",
    "\n",
    "events.dtype.names\n",
    "\n",
    "peaks.dtype.names\n",
    "\n",
    "\n",
    "##\n",
    "# Add extra peak fields here\n",
    "##\n",
    "\n",
    "\n",
    "\n",
    "# Get the positions of these s2's\n",
    "\n",
    "# Add and x and y field to each s2 peak, using the specified algorithm i.e. Neural Net\n",
    "\n",
    "print('done')\n",
    "print(\"number of events selected before:\", len(events))\n",
    "\n",
    "##\n",
    "# Add n_S1, n_S2, ... in each event\n",
    "##\n",
    "\n",
    "# Group peaks by event\n",
    "peaks_per_event = group_by(peaks, 'Event')\n",
    "assert len(peaks_per_event) == len(events)\n",
    "\n",
    "peak_types = [b's1', b's2', b'unknown', b'noise', b'lone_hit']\n",
    "# Add number of individual peak types\n",
    "for pt in peak_types:\n",
    "    events = append_fields(events,\n",
    "                           'n_'+pt.decode(),\n",
    "                           np.array([len(x[x['type'] == pt]) for x in peaks_per_event]))\n",
    "    \n",
    "print('done')\n",
    "print(\"Tell me the peaktypes S2:\", len(peaks[(peaks['type'] == b's2')])) \n",
    "print(\"Tell me the peaktypes S1:\", len(peaks[(peaks['type'] == b's1')])) \n",
    "print(\"Tell me the peaktypes noise:\", len(peaks[(peaks['type'] == b'noise')])) \n",
    "print(\"Tell me the peaktypes unknown:\", len(peaks[(peaks['type'] == b'unknown')]))\n",
    "print(\"Tell me the peaktypes lone_hit:\", len(peaks[(peaks['type'] == b'lone_hit')]))  \n",
    "\n",
    "events.dtype.names\n",
    "\n"
   ]
  },
  {
   "cell_type": "code",
   "execution_count": 145,
   "metadata": {
    "collapsed": false
   },
   "outputs": [
    {
     "name": "stderr",
     "output_type": "stream",
     "text": [
      "DEBUG:Gaseous basic statistics:49.71% of events have >=2 S1, keeping only those.\n"
     ]
    },
    {
     "name": "stdout",
     "output_type": "stream",
     "text": [
      "done!\n",
      "number of events selected: 4689\n"
     ]
    }
   ],
   "source": [
    "n_before = len(events)\n",
    "cut = (events['n_s1'] >= 2)\n",
    "events = events[cut]\n",
    "peaks_per_event = [x for i, x in enumerate(peaks_per_event) if cut[i]]\n",
    "\n",
    "log.debug(\"%0.2f%% of events have >=2 S1, keeping only those.\" % (100*len(events)/n_before))\n",
    "print('done!')\n",
    "print(\"number of events selected:\", len(events))"
   ]
  },
  {
   "cell_type": "code",
   "execution_count": 146,
   "metadata": {
    "collapsed": false
   },
   "outputs": [
    {
     "name": "stdout",
     "output_type": "stream",
     "text": [
      "done\n"
     ]
    }
   ],
   "source": [
    "ignore_fields = ['Event', 'Peak','type',\n",
    "                 # recfunctions have trouble with subarrays...\n",
    "                 'hits_per_channel','area_per_channel','hits_start','n_reconstructed_positions','reconstructed_positions_start','','area_midpoint','area_fraction_top','hits_per_channel','n_saturated_per_channel','range_area_decile','is_channel_suspicious','n_hits_rejected','noise_pulses_in','sum_waveform','sum_waveform_top']\n",
    "for pt in (b's1',):\n",
    "    main_peaks = []\n",
    "    secondary_peaks =[]\n",
    "    for pks in tqdm(peaks_per_event, desc='Selecting %ss' % pt.decode()):\n",
    "        peaks_of_this_type =  pks[pks['type'] == pt]\n",
    "        main_peaks.append(peaks_of_this_type[np.argmax(peaks_of_this_type['area'])])\n",
    "        peaks_of_this_type=peaks_of_this_type[peaks_of_this_type[\"area\"]<peaks_of_this_type[\"area\"].max()]\n",
    "        secondary_peaks.append(peaks_of_this_type[np.argmax(peaks_of_this_type['area'])])     \n",
    "\n",
    "\n",
    "    main_peaks = np.array(main_peaks)\n",
    "    assert len(main_peaks) == len(peaks_per_event)\n",
    "    secondary_peaks = np.array(secondary_peaks)\n",
    "    assert len(secondary_peaks) == len(peaks_per_event)   \n",
    "\n",
    "    \n",
    "      \n",
    "    for fn in main_peaks.dtype.names:\n",
    "        if fn in ignore_fields:\n",
    "            continue\n",
    "        events = append_fields(events,\n",
    "                               \"%s_%s\" % (pt.decode(), fn),\n",
    "                               main_peaks[fn])\n",
    "\n",
    "\n",
    "    for fn in secondary_peaks.dtype.names:\n",
    "        if fn in ignore_fields:\n",
    "            continue\n",
    "        events = append_fields(events,\n",
    "                               \"%s_1_%s\" % (pt.decode(), fn),\n",
    "                               secondary_peaks[fn])\n",
    "    \n",
    "    \n",
    "    print('done')\n",
    "\n",
    "\n"
   ]
  },
  {
   "cell_type": "code",
   "execution_count": 147,
   "metadata": {
    "collapsed": false
   },
   "outputs": [
    {
     "name": "stdout",
     "output_type": "stream",
     "text": [
      "total number of events: 4689\n",
      "number of events selected: 4555\n"
     ]
    }
   ],
   "source": [
    "events = append_fields(events, 'sep_time', events['s1_1_hit_time_mean'] - events['s1_hit_time_mean'])\n",
    "\n",
    "\n",
    "# Main selection of populations\n",
    "print(\"total number of events:\", len(events))\n",
    "\n",
    "selected_events = events[\n",
    "\n",
    "    (events['s1_hit_time_mean'] < events['s1_1_hit_time_mean'])  \n",
    "]\n",
    "\n",
    "print(\"number of events selected:\", len(selected_events))\n",
    "\n"
   ]
  },
  {
   "cell_type": "code",
   "execution_count": 152,
   "metadata": {
    "collapsed": false
   },
   "outputs": [
    {
     "data": {
      "image/png": "[encoded data removed]",
      "text/plain": [
       "<matplotlib.figure.Figure at 0x7f9e654235c0>"
      ]
     },
     "metadata": {},
     "output_type": "display_data"
    }
   ],
   "source": [
    "labels = {}\n",
    "labels['s1_area'] = \"S1 Area [pe]\"\n",
    "labels['s1_1_area'] = \"S1_1 Area [pe]\"\n",
    "\n",
    "def plot_density(selected, xvar, yvar, xmin, xmax, ymin, ymax, log=False):\n",
    "    \n",
    "    for key in (xvar, yvar):\n",
    "        try:\n",
    "            labels[key]\n",
    "        except KeyError:\n",
    "            labels[key] = key\n",
    "\n",
    "    xbins = np.linspace(xmin, xmax, 100)\n",
    "    ybins = np.linspace(ymin, ymax, 100)\n",
    "\n",
    "    counts, _, _ = np.histogram2d(selected[xvar], selected[yvar], bins=(xbins, ybins))\n",
    "    counts = counts.T\n",
    "\n",
    "    fig, ax = plt.subplots(figsize=(12, 7))\n",
    "    \n",
    "    norm=None\n",
    "    if log:\n",
    "        norm=LogNorm()\n",
    "    \n",
    "    a = ax.pcolormesh(xbins, ybins, counts, norm=norm)\n",
    "\n",
    "    cbar = plt.colorbar(a)\n",
    "    cbar.ax.get_yaxis().labelpad = 25\n",
    "    cbar.set_label('counts', rotation=270)\n",
    "    plt.title(filename)\n",
    "    plt.xlabel(labels[xvar])\n",
    "    plt.ylabel(labels[yvar])\n",
    "\n",
    "    plt.show()\n",
    "    return\n",
    "\n",
    "#plot_density(selected_events, \"s1_area\",\"s1_1_area\",0,200,0,50)        \n",
    "\n",
    "plt.hist(events[\"sep_time\"],bins=100,range=(0,1000))\n",
    "plt.show()\n"
   ]
  },
  {
   "cell_type": "code",
   "execution_count": null,
   "metadata": {
    "collapsed": true
   },
   "outputs": [],
   "source": []
  }
 ],
 "metadata": {
  "kernelspec": {
   "display_name": "Python 3",
   "language": "python",
   "name": "python3"
  },
  "language_info": {
   "codemirror_mode": {
    "name": "ipython",
    "version": 3
   },
   "file_extension": ".py",
   "mimetype": "text/x-python",
   "name": "python",
   "nbconvert_exporter": "python",
   "pygments_lexer": "ipython3",
   "version": "3.4.3"
  }
 },
 "nbformat": 4,
 "nbformat_minor": 0
}
