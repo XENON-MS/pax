{
 "cells": [
  {
   "cell_type": "code",
   "execution_count": 17,
   "metadata": {
    "collapsed": true
   },
   "outputs": [],
   "source": [
    "# Settings\n",
    "#filename    = '/home/axel/PycharmProjects/pax/tpc_kr_150410_8k.hdf5'\n",
    "filename    = '/home/a_fieg02/Desktop/Data/MsTPC/Kr_1000TH.hdf5'\n",
    "file_format = 'hfd5'\n",
    "#loglevel    = 'DEBUG'"
   ]
  },
  {
   "cell_type": "code",
   "execution_count": 18,
   "metadata": {
    "collapsed": false,
    "scrolled": true
   },
   "outputs": [],
   "source": [
    "import NotebookLoader\n",
    "import Function_definitions as fn\n",
    "import numpy as np\n",
    "import matplotlib.pyplot as plt\n",
    "%matplotlib inline\n",
    "plt.rc('font', size=16)\n",
    "import h5py\n",
    "import units\n",
    "from recarray_tools import append_fields,fields_view, group_by, filter_on_fields, fields_data\n",
    "\n",
    "# Optional progress bar\n",
    "try:\n",
    "    from tqdm import tqdm\n",
    "except ImportError:\n",
    "    def dummy(*args,**kwargs):\n",
    "        return args[0]\n",
    "    tqdm = dummy"
   ]
  },
  {
   "cell_type": "code",
   "execution_count": 19,
   "metadata": {
    "collapsed": true
   },
   "outputs": [],
   "source": [
    "# Slurp peaks and events into memory\n",
    "# WARNING: For a large dataset, use pax to remove big low-level fields first\n",
    "# (area_per_channel, does_channel_contribute, does_channel_have_noise)\n",
    "import h5py\n",
    "f = h5py.File(filename)\n",
    "events = f.get('Event')[:]\n",
    "peaks = f.get('Peak')[:]\n",
    "f.keys()\n",
    "f.close()\n",
    "if len(events) == 0:\n",
    "    raise ValueError(\"You don't have any events in this dataset!\")"
   ]
  },
  {
   "cell_type": "code",
   "execution_count": 4,
   "metadata": {
    "collapsed": false
   },
   "outputs": [
    {
     "name": "stdout",
     "output_type": "stream",
     "text": [
      "done\n",
      "Tell me the peaktypes S2: 82\n",
      "Tell me the peaktypes S1: 238436\n",
      "Tell me the peaktypes noise: 0\n",
      "Tell me the peaktypes unknown: 1374\n",
      "Tell me the peaktypes lone_pulse: 0\n"
     ]
    }
   ],
   "source": [
    "# Group peaks by event\n",
    "peaks_per_event = group_by(peaks, 'Event')\n",
    "assert len(peaks_per_event) == len(events)\n",
    "\n",
    "peak_types = [b's1', b's2', b'unknown', b'noise', b'lone_pulse']\n",
    "# Add number of individual peak types\n",
    "for pt in peak_types:\n",
    "    events = append_fields(events,\n",
    "                           'n_'+pt.decode(),\n",
    "                           np.array([len(x[x['type'] == pt]) for x in peaks_per_event]))\n",
    "    \n",
    "print('done')\n",
    "print(\"Tell me the peaktypes S2:\", len(peaks[(peaks['type'] == b's2')])) \n",
    "print(\"Tell me the peaktypes S1:\", len(peaks[(peaks['type'] == b's1')])) \n",
    "print(\"Tell me the peaktypes noise:\", len(peaks[(peaks['type'] == b'noise')])) \n",
    "print(\"Tell me the peaktypes unknown:\", len(peaks[(peaks['type'] == b'unknown')]))\n",
    "print(\"Tell me the peaktypes lone_pulse:\", len(peaks[(peaks['type'] == b'lone_pulse')]))"
   ]
  },
  {
   "cell_type": "code",
   "execution_count": 10,
   "metadata": {
    "collapsed": false
   },
   "outputs": [
    {
     "data": {
      "text/plain": [
       "3"
      ]
     },
     "execution_count": 10,
     "metadata": {},
     "output_type": "execute_result"
    }
   ],
   "source": []
  },
  {
   "cell_type": "code",
   "execution_count": 15,
   "metadata": {
    "collapsed": true
   },
   "outputs": [],
   "source": [
    "def plot_density(selected, xvar, yvar, xmin, xmax, ymin, ymax, log=False):\n",
    "    \n",
    "    for key in (xvar, yvar):\n",
    "        try:\n",
    "            labels[key]\n",
    "        except KeyError:\n",
    "            labels[key] = key\n",
    "\n",
    "    xbins = np.linspace(xmin, xmax, 100)\n",
    "    ybins = np.linspace(ymin, ymax, 100)\n",
    "\n",
    "    counts, _, _ = np.histogram2d(selected[xvar], selected[yvar], bins=(xbins, ybins))\n",
    "    counts = counts.T\n",
    "\n",
    "    fig, ax = plt.subplots(figsize=(12, 7))\n",
    "    \n",
    "    norm=None\n",
    "    if log:\n",
    "        norm=LogNorm()\n",
    "    \n",
    "    a = ax.pcolormesh(xbins, ybins, counts, norm=norm)\n",
    "\n",
    "    cbar = plt.colorbar(a)\n",
    "    cbar.ax.get_yaxis().labelpad = 25\n",
    "    cbar.set_label('counts', rotation=270)\n",
    "    plt.title(dataset)\n",
    "    plt.xlabel(labels[xvar])\n",
    "    plt.ylabel(labels[yvar])\n",
    "\n",
    "    plt.show()\n",
    "    return\n"
   ]
  }
 ],
 "metadata": {
  "kernelspec": {
   "display_name": "Python 3",
   "language": "python",
   "name": "python3"
  },
  "language_info": {
   "codemirror_mode": {
    "name": "ipython",
    "version": 3
   },
   "file_extension": ".py",
   "mimetype": "text/x-python",
   "name": "python",
   "nbconvert_exporter": "python",
   "pygments_lexer": "ipython3",
   "version": "3.4.3"
  }
 },
 "nbformat": 4,
 "nbformat_minor": 0
}
