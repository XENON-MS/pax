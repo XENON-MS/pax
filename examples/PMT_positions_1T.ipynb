{
 "cells": [
  {
   "cell_type": "code",
   "execution_count": null,
   "metadata": {
    "collapsed": false
   },
   "outputs": [],
   "source": [
    "import numpy as np\n",
    "import matplotlib\n",
    "import matplotlib.pyplot as plt\n",
    "%matplotlib inline\n",
    "matplotlib.rc('font', size=12)"
   ]
  },
  {
   "cell_type": "code",
   "execution_count": null,
   "metadata": {
    "collapsed": true
   },
   "outputs": [],
   "source": [
    "## functions to calculate the pmt positions in the top and bottom arrays\n",
    "# adapted from the XENON1T MC:\n",
    "# G4ThreeVector Xenon1tDetectorConstruction::GetPMTsPositionTopArray(G4int iPMTNb)\n",
    "# and\n",
    "# G4ThreeVector Xenon1tDetectorConstruction::GetPMTsPositionBottomArray(G4int iPMTNb)\n",
    "\n",
    "# Some constants taken from the XENON1T MC\n",
    "PMT_distance_top = 7.95  # cm\n",
    "PMT_distance_bottom = 8.0  # cm\n",
    "PMTOuterRingRadius = 3.875  # cm\n",
    "\n",
    "def get_pmt_positions_top(number):\n",
    "    array = [i*6 for i in range(7)]\n",
    "    array[0] = 1\n",
    "    radius = [i*PMT_distance_top for i in range(7)]\n",
    "    \n",
    "    index1 = 0\n",
    "    iTotal = array[0]\n",
    "    while number > iTotal:\n",
    "        index1 += 1\n",
    "        iTotal += array[index1]\n",
    "\n",
    "    index2 = number + array[index1] - iTotal\n",
    "    \n",
    "    x = radius[index1] * np.cos(index2*np.pi*2 / array[index1])\n",
    "    y = radius[index1] * np.sin(index2*np.pi*2 / array[index1])\n",
    "    return x, y\n",
    "\n",
    "def get_pmt_positions_bottom(number):\n",
    "    row_distance = np.sqrt(3.)/2. * PMT_distance_bottom\n",
    "    n_rows = 13;\n",
    "    n_pmts_top = 127\n",
    "    \n",
    "    array = [5, 8, 9, 10, 11, 12, 11, 12, 11, 10, 9, 8, 5]\n",
    "    PMTsRowOffset = []\n",
    "    \n",
    "    for i in range(n_rows):\n",
    "        PMTsRowOffset.append(-0.5*(array[i]-1)*PMT_distance_bottom)\n",
    "\n",
    "    index1 = 0\n",
    "    iTotal = array[0]\n",
    "    while number > n_pmts_top+iTotal:\n",
    "        index1 += 1\n",
    "        iTotal += array[index1]\n",
    "  \n",
    "    index2 = number + array[index1] - iTotal -(n_pmts_top+1)\n",
    "  \n",
    "    x = PMTsRowOffset[index1] + (index2 * PMT_distance_bottom)\n",
    "    y = ((0.5*(n_rows-1)-index1) * row_distance);\n",
    "    return x, y\n",
    "\n",
    "# rotate tuple over certain angle\n",
    "def rotate(pos, angle):\n",
    "    return (pos[0]*np.cos(angle) -pos[1]*np.sin(angle), pos[0]*np.sin(angle) + pos[1]*np.cos(angle))"
   ]
  },
  {
   "cell_type": "code",
   "execution_count": null,
   "metadata": {
    "collapsed": false
   },
   "outputs": [],
   "source": [
    "positions_top = np.array([get_pmt_positions_top(i) for i in range(1, 128)])\n",
    "# The rotation made is one quarter plus 1.5 PMT (so that pmts 1 and 2 are horizontal and pmts 10 and 11 are vertical)\n",
    "rotation_angle_top = np.pi/2 + (3/72)*2*np.pi  # Is this the correct rotation?\n",
    "positions_top = np.array([rotate(pos, rotation_angle_top) for pos in positions_top])\n",
    "\n",
    "xs_top = positions_top[:,0]\n",
    "ys_top = positions_top[:,1]"
   ]
  },
  {
   "cell_type": "code",
   "execution_count": null,
   "metadata": {
    "collapsed": false
   },
   "outputs": [],
   "source": [
    "positions_bottom = np.array([get_pmt_positions_bottom(i) for i in range(128, 121+127+1)])\n",
    "rotation_angle_bottom = np.pi/8  # Is this the correct rotation?\n",
    "positions_bottom = np.array([rotate(pos, rotation_angle_bottom) for pos in positions_bottom])\n",
    "\n",
    "xs_bottom = positions_bottom[:,0]\n",
    "ys_bottom = positions_bottom[:,1]"
   ]
  },
  {
   "cell_type": "code",
   "execution_count": null,
   "metadata": {
    "collapsed": false
   },
   "outputs": [],
   "source": [
    "plt.figure(figsize=(10,10))\n",
    "plt.scatter(xs_top, ys_top, s=900, facecolors='none', edgecolors='r')\n",
    "for i in range(127):\n",
    "    # NOTE that the indices are in reverse\n",
    "    plt.annotate(str(126-i), xy=(xs_top[i]-1.5, ys_top[i]-0.8))\n",
    "plt.show()\n",
    "# circle sizes are only an indication"
   ]
  },
  {
   "cell_type": "code",
   "execution_count": null,
   "metadata": {
    "collapsed": false
   },
   "outputs": [],
   "source": [
    "plt.figure(figsize=(10,10))\n",
    "plt.scatter(xs_bottom, ys_bottom, s=900, facecolors='none', edgecolors='r')\n",
    "for i in range(121):\n",
    "    plt.annotate(str(127+i), xy=(xs_bottom[i]-1.5, ys_bottom[i]-0.8))\n",
    "plt.show()\n",
    "# circle sizes are only an indication"
   ]
  },
  {
   "cell_type": "code",
   "execution_count": null,
   "metadata": {
    "collapsed": false
   },
   "outputs": [],
   "source": [
    "# make the final list\n",
    "# 127 top pmts + 121 bottom pmts\n",
    "# print(len(positions_top))\n",
    "# print(len(positions_bottom))\n",
    "\n",
    "pmt_locations = []\n",
    "for i in range(127):\n",
    "    pmt_locations.append({'x': xs_top[127-1-i], 'y': ys_top[127-1-i]})\n",
    "    \n",
    "for i in range(121):\n",
    "    pmt_locations.append({'x': xs_bottom[i], 'y': ys_bottom[i]})"
   ]
  },
  {
   "cell_type": "code",
   "execution_count": null,
   "metadata": {
    "collapsed": false
   },
   "outputs": [],
   "source": [
    "len(pmt_locations)"
   ]
  },
  {
   "cell_type": "code",
   "execution_count": null,
   "metadata": {
    "collapsed": false
   },
   "outputs": [],
   "source": [
    "# double check once more by plot and add correct size PMT (3 inch diameter)\n",
    "top_channels = list(range(0, 127))\n",
    "bottom_channels = list(range(127, 247+1))\n",
    "\n",
    "plot_radius = 60\n",
    "\n",
    "plt.figure(figsize=(10,10))\n",
    "plt.xlim((-plot_radius, plot_radius))\n",
    "plt.ylim((-plot_radius, plot_radius))\n",
    "\n",
    "for ch in top_channels:\n",
    "    plt.gca().add_artist(plt.Circle((pmt_locations[ch]['x'],pmt_locations[ch]['y']), \n",
    "                                    PMTOuterRingRadius, \n",
    "                                    edgecolor='red', \n",
    "                                    fill=None))\n",
    "    plt.annotate(str(ch), xy=(pmt_locations[ch]['x']-1.4,pmt_locations[ch]['y']-0.8))\n",
    "plt.xlabel('x [cm]')\n",
    "plt.ylabel('y [cm]')\n",
    "plt.title('XENON1T Top PMT array')\n",
    "plt.annotate(' WT Door', fontsize=15, xy=(40, 58), xytext=(40, 45),\n",
    "            arrowprops=dict(facecolor='black', shrink=0.2))\n",
    "plt.annotate(' Building', fontsize=15, xy=(40, -58), xytext=(40, -45),\n",
    "            arrowprops=dict(facecolor='black', shrink=0.2))\n",
    "plt.text(-55, 55, 'As seen from above', fontsize=15)\n",
    "#plt.savefig('XENON1T_Top.png', format='png', dpi=300)\n",
    "plt.show()\n",
    "\n",
    "\n",
    "\n",
    "plt.figure(figsize=(10,10))\n",
    "plt.xlim((-plot_radius, plot_radius))\n",
    "plt.ylim((-plot_radius, plot_radius))\n",
    "\n",
    "for ch in bottom_channels:\n",
    "    plt.gca().add_artist(plt.Circle((pmt_locations[ch]['x'],pmt_locations[ch]['y']), \n",
    "                                    PMTOuterRingRadius, \n",
    "                                    edgecolor='red', \n",
    "                                    fill=None))\n",
    "    plt.annotate(str(ch), xy=(pmt_locations[ch]['x']-1.7,pmt_locations[ch]['y']-0.8))\n",
    "plt.xlabel('x [cm]')\n",
    "plt.ylabel('y [cm]')\n",
    "plt.title('XENON1T Bottom PMT array')\n",
    "plt.annotate(' WT Door', fontsize=15, xy=(40, 58), xytext=(40, 45),\n",
    "            arrowprops=dict(facecolor='black', shrink=0.2))\n",
    "plt.annotate(' Building', fontsize=15, xy=(40, -58), xytext=(40, -45),\n",
    "            arrowprops=dict(facecolor='black', shrink=0.2))\n",
    "plt.text(-55, 55, 'As seen from above', fontsize=15)\n",
    "#plt.savefig('XENON1T_Bottom.png', format='png', dpi=300)\n",
    "plt.show()\n",
    "\n"
   ]
  },
  {
   "cell_type": "code",
   "execution_count": null,
   "metadata": {
    "collapsed": false
   },
   "outputs": [],
   "source": [
    "pmt_locations"
   ]
  },
  {
   "cell_type": "code",
   "execution_count": null,
   "metadata": {
    "collapsed": true
   },
   "outputs": [],
   "source": []
  }
 ],
 "metadata": {
  "kernelspec": {
   "display_name": "Python 3",
   "language": "python",
   "name": "python3"
  },
  "language_info": {
   "codemirror_mode": {
    "name": "ipython",
    "version": 3
   },
   "file_extension": ".py",
   "mimetype": "text/x-python",
   "name": "python",
   "nbconvert_exporter": "python",
   "pygments_lexer": "ipython3",
   "version": "3.4.3"
  }
 },
 "nbformat": 4,
 "nbformat_minor": 0
}
